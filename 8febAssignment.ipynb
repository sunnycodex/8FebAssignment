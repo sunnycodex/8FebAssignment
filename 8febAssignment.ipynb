{
 "cells": [
  {
   "cell_type": "markdown",
   "id": "79f31aeb-3d13-4ccc-9ef6-7f81504ece7d",
   "metadata": {},
   "source": [
    "Q.1\n",
    "Abstraction is the concept of object-oriented programming that “shows” only essential attributes and “hides” unnecessary information."
   ]
  },
  {
   "cell_type": "markdown",
   "id": "308c9bcd-d97b-4546-9252-629089e9a2b0",
   "metadata": {},
   "source": [
    "Q.2\n",
    "Difference between Abstraction and Encapsulation\n",
    "Abstraction: Abstraction in Object Oriented Programming solves the issues at the design level.\n",
    "Encapsulation: Encapsulation solves it implementation level\n",
    "                                 -------------------------\n",
    "Abstraction: Abstraction in Programming is about hiding unwanted details while showing most essential information.\n",
    "Encapsulation: Encapsulation means binding the code and data into a single unit.\n",
    "                                -----------------------------"
   ]
  },
  {
   "cell_type": "markdown",
   "id": "9d4ad930-cbd0-4c8e-a7d8-3ad2617e7d40",
   "metadata": {},
   "source": [
    "Q.3\n",
    "The abc module in Python stands for Abstract Base Classes. It provides a way to define abstract classes, which are classes that cannot be instantiated directly, but can only be subclassed. The main purpose of using abstract classes is to define a common API that multiple concrete classes can implement.\n",
    "\n",
    " The abc module is used to define abstract classes in Python, which can be used as a blueprint for implementing concrete classes with a consistent interface."
   ]
  },
  {
   "cell_type": "markdown",
   "id": "87ff465a-3a0d-45f0-9c41-cefe6c6f3c52",
   "metadata": {},
   "source": [
    "Q.4\n",
    "Abstraction can be achieved by having/using abstract classes and methods in our programs."
   ]
  },
  {
   "cell_type": "code",
   "execution_count": null,
   "id": "fc1f69d9-b2f9-48eb-9dd7-bf24f2abd272",
   "metadata": {},
   "outputs": [],
   "source": []
  }
 ],
 "metadata": {
  "kernelspec": {
   "display_name": "Python 3 (ipykernel)",
   "language": "python",
   "name": "python3"
  },
  "language_info": {
   "codemirror_mode": {
    "name": "ipython",
    "version": 3
   },
   "file_extension": ".py",
   "mimetype": "text/x-python",
   "name": "python",
   "nbconvert_exporter": "python",
   "pygments_lexer": "ipython3",
   "version": "3.10.8"
  }
 },
 "nbformat": 4,
 "nbformat_minor": 5
}
